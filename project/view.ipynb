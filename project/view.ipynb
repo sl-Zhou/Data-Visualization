{
 "cells": [
  {
   "cell_type": "code",
   "execution_count": 1,
   "metadata": {},
   "outputs": [],
   "source": [
    "import pandas as pd\n",
    "import numpy as np\n",
    "import plotly.express as px"
   ]
  },
  {
   "cell_type": "code",
   "execution_count": 2,
   "metadata": {},
   "outputs": [
    {
     "name": "stdout",
     "output_type": "stream",
     "text": [
      "   index  Year  platz  nachname   vorname nation  ak sex        z5       z10  \\\n",
      "0      0  1999      1   Kiprono  Josephat    KEN  25   M  00:15:09  00:30:21   \n",
      "1      1  1999      2  Inubushi  Takayuki    JPN  25   M  00:15:09  00:30:21   \n",
      "2      2  1999      3    Kandie    Samson    KEN  25   M  00:15:10  00:30:21   \n",
      "3      3  1999      4     Chatt    Hicham    MAR  25   M  00:15:11  00:30:23   \n",
      "4      4  1999      5   Cherono     Henry    KEN  25   M  00:15:10  00:30:21   \n",
      "\n",
      "        z15       z20       z25       z30       z35       z40 halbmarathon  \\\n",
      "0  00:45:25  01:00:34  01:14:54  01:30:10  01:45:05  02:00:08     01:03:54   \n",
      "1  00:45:27  01:00:36  01:14:56  01:30:18  01:45:21  02:00:18     01:03:54   \n",
      "2  00:45:27  01:00:35  01:14:55  01:30:18  01:45:59  02:01:41     01:03:54   \n",
      "3  00:45:27  01:00:36  01:14:56  01:30:24  01:46:14  02:02:52     01:03:55   \n",
      "4  00:00:00  01:00:35  01:14:55  01:30:18  01:46:14  02:02:58     01:03:55   \n",
      "\n",
      "      netto  \n",
      "0  02:06:44  \n",
      "1  02:06:57  \n",
      "2  02:08:31  \n",
      "3  02:09:56  \n",
      "4  02:10:37  \n",
      "   YEAR  PRECIP_mm  SUNSHINE_hrs  CLOUD_hrs  ATMOS_PRESS_mbar  AVG_TEMP_C  \\\n",
      "0  1974        0.0           0.2        7.0            1009.5         5.4   \n",
      "1  1975        4.2           9.4        3.0            1011.4        14.3   \n",
      "2  1976        3.0          10.2        3.3            1010.4        12.8   \n",
      "3  1977       11.2           0.0        8.0            1013.1         9.7   \n",
      "4  1978        1.8           2.7        6.0            1000.6        11.2   \n",
      "\n",
      "   MAX_TEMP_C  MIN_TEMP_C  \n",
      "0         8.8         1.1  \n",
      "1        20.1         9.5  \n",
      "2        18.0         7.3  \n",
      "3        12.5         7.4  \n",
      "4        14.5         9.4  \n"
     ]
    },
    {
     "name": "stderr",
     "output_type": "stream",
     "text": [
      "d:\\IFT\\data visualization\\tp1\\exercices_python\\venv\\lib\\site-packages\\IPython\\core\\interactiveshell.py:3071: DtypeWarning: Columns (6) have mixed types.Specify dtype option on import or set low_memory=False.\n",
      "  has_raised = await self.run_ast_nodes(code_ast.body, cell_name,\n"
     ]
    }
   ],
   "source": [
    "# load runners data\n",
    "runners_df = pd.read_csv('MyBerlin_1999-2023.csv')\n",
    "\n",
    "# load weather data\n",
    "weather_df = pd.read_csv('Berlin_Marathon_weather_data_since_1974.csv')\n",
    "\n",
    "# print data preview\n",
    "print(runners_df.head())\n",
    "print(weather_df.head())"
   ]
  },
  {
   "cell_type": "code",
   "execution_count": 5,
   "metadata": {},
   "outputs": [
    {
     "name": "stdout",
     "output_type": "stream",
     "text": [
      "   index  Year  platz  nachname   vorname nation  ak sex        z5       z10  \\\n",
      "0      0  1999      1   Kiprono  Josephat    KEN  25   M  00:15:09  00:30:21   \n",
      "1      1  1999      2  Inubushi  Takayuki    JPN  25   M  00:15:09  00:30:21   \n",
      "2      2  1999      3    Kandie    Samson    KEN  25   M  00:15:10  00:30:21   \n",
      "3      3  1999      4     Chatt    Hicham    MAR  25   M  00:15:11  00:30:23   \n",
      "4      4  1999      5   Cherono     Henry    KEN  25   M  00:15:10  00:30:21   \n",
      "\n",
      "   ...       z40 halbmarathon     netto PRECIP_mm SUNSHINE_hrs CLOUD_hrs  \\\n",
      "0  ...  02:00:08     01:03:54  02:06:44       1.2          0.0       6.3   \n",
      "1  ...  02:00:18     01:03:54  02:06:57       1.2          0.0       6.3   \n",
      "2  ...  02:01:41     01:03:54  02:08:31       1.2          0.0       6.3   \n",
      "3  ...  02:02:52     01:03:55  02:09:56       1.2          0.0       6.3   \n",
      "4  ...  02:02:58     01:03:55  02:10:37       1.2          0.0       6.3   \n",
      "\n",
      "  ATMOS_PRESS_mbar AVG_TEMP_C  MAX_TEMP_C  MIN_TEMP_C  \n",
      "0            997.7       15.1        17.0        12.9  \n",
      "1            997.7       15.1        17.0        12.9  \n",
      "2            997.7       15.1        17.0        12.9  \n",
      "3            997.7       15.1        17.0        12.9  \n",
      "4            997.7       15.1        17.0        12.9  \n",
      "\n",
      "[5 rows x 25 columns]\n"
     ]
    }
   ],
   "source": [
    "weather_df = weather_df.rename(columns={'YEAR': 'Year'})\n",
    "# merge two dataframes\n",
    "merged_df = pd.merge(runners_df, weather_df, on='Year', how='left')\n",
    "\n",
    "# print merged data preview\n",
    "print(merged_df.head())"
   ]
  },
  {
   "cell_type": "code",
   "execution_count": 6,
   "metadata": {},
   "outputs": [
    {
     "name": "stdout",
     "output_type": "stream",
     "text": [
      "      netto  netto_minutes\n",
      "0  02:06:44     126.733333\n",
      "1  02:06:57     126.950000\n",
      "2  02:08:31     128.516667\n",
      "3  02:09:56     129.933333\n",
      "4  02:10:37     130.616667\n"
     ]
    }
   ],
   "source": [
    "# convert time to minutes\n",
    "def time_to_minutes(time_str):\n",
    "    h, m, s = map(int, time_str.split(':'))\n",
    "    return h * 60 + m + s / 60\n",
    "\n",
    "merged_df['netto_minutes'] = merged_df['netto'].apply(time_to_minutes)\n",
    "\n",
    "# print converted time\n",
    "print(merged_df[['netto', 'netto_minutes']].head())"
   ]
  },
  {
   "cell_type": "code",
   "execution_count": 7,
   "metadata": {},
   "outputs": [
    {
     "name": "stdout",
     "output_type": "stream",
     "text": [
      "   Year  platz  is_elite\n",
      "0  1999      1      True\n",
      "1  1999      2      True\n",
      "2  1999      3      True\n",
      "3  1999      4      True\n",
      "4  1999      5      True\n",
      "5  1999      6      True\n",
      "6  1999      7      True\n",
      "7  1999      8      True\n",
      "8  1999      9      True\n",
      "9  1999     10      True\n"
     ]
    }
   ],
   "source": [
    "# mark elite runners\n",
    "merged_df['is_elite'] = merged_df.groupby('Year')['platz'].transform(lambda x: x <= 10)\n",
    "\n",
    "print(merged_df[['Year', 'platz', 'is_elite']].head(10))"
   ]
  },
  {
   "cell_type": "code",
   "execution_count": null,
   "metadata": {},
   "outputs": [
    {
     "name": "stdout",
     "output_type": "stream",
     "text": [
      "    index  Year  platz         nachname     vorname nation  ak sex        z5  \\\n",
      "0       0  1999      1          Kiprono    Josephat    KEN  25   M  00:15:09   \n",
      "1       1  1999      2         Inubushi    Takayuki    JPN  25   M  00:15:09   \n",
      "2       2  1999      3           Kandie      Samson    KEN  25   M  00:15:10   \n",
      "3       3  1999      4            Chatt      Hicham    MAR  25   M  00:15:11   \n",
      "4       4  1999      5          Cherono       Henry    KEN  25   M  00:15:10   \n",
      "5       5  1999      6           Glinka    Waldemar    POL  30   M  00:15:11   \n",
      "6       6  1999      7       Nascimento  Eduardo do    BRA  25   M  00:15:11   \n",
      "7       7  1999      8           Ndungu     Stephen    KEN  30   M  00:15:11   \n",
      "8       8  1999      9         Tokunaga     Daisuke    JPN  30   M  00:15:13   \n",
      "9       9  1999     10         de Souza  José Teles    BRA  25   M  00:00:00   \n",
      "10     10  1999     11          Kariuki      Joseph    KEN  25   M  00:15:11   \n",
      "11     11  1999     12           Thlobo       Ezael    RSA  35   M  00:15:11   \n",
      "12     12  1999     13          Glogosz    Grzegorz    POL  30   M  00:15:08   \n",
      "13     13  1999     14         Yokoyama         Kei    JPN  25   M  00:15:10   \n",
      "14     14  1999     15        Kobayashi       Seiji    JPN  25   M  00:15:14   \n",
      "15     15  1999     16        Negolepus      Joseph    KEN  25   M  00:15:11   \n",
      "16     16  1999     17  Jimenez-Cancini      Sergio    MEX  30   M  00:15:11   \n",
      "17     17  1999     18          Wenisch         Max    AUT  35   M  00:15:33   \n",
      "18     18  1999     19           Franke    Stephane    GER  35   M  00:15:08   \n",
      "19     19  1999     20          Tenorio    Franklin    ECU  30   M  00:15:31   \n",
      "\n",
      "         z10  ... PRECIP_mm SUNSHINE_hrs CLOUD_hrs ATMOS_PRESS_mbar  \\\n",
      "0   00:30:21  ...       1.2          0.0       6.3            997.7   \n",
      "1   00:30:21  ...       1.2          0.0       6.3            997.7   \n",
      "2   00:30:21  ...       1.2          0.0       6.3            997.7   \n",
      "3   00:30:23  ...       1.2          0.0       6.3            997.7   \n",
      "4   00:30:21  ...       1.2          0.0       6.3            997.7   \n",
      "5   00:30:33  ...       1.2          0.0       6.3            997.7   \n",
      "6   00:30:22  ...       1.2          0.0       6.3            997.7   \n",
      "7   00:30:23  ...       1.2          0.0       6.3            997.7   \n",
      "8   00:30:32  ...       1.2          0.0       6.3            997.7   \n",
      "9   00:30:21  ...       1.2          0.0       6.3            997.7   \n",
      "10  00:30:22  ...       1.2          0.0       6.3            997.7   \n",
      "11  00:30:22  ...       1.2          0.0       6.3            997.7   \n",
      "12  00:30:31  ...       1.2          0.0       6.3            997.7   \n",
      "13  00:30:33  ...       1.2          0.0       6.3            997.7   \n",
      "14  00:30:57  ...       1.2          0.0       6.3            997.7   \n",
      "15  00:30:21  ...       1.2          0.0       6.3            997.7   \n",
      "16  00:30:31  ...       1.2          0.0       6.3            997.7   \n",
      "17  00:31:31  ...       1.2          0.0       6.3            997.7   \n",
      "18  00:30:21  ...       1.2          0.0       6.3            997.7   \n",
      "19  00:30:50  ...       1.2          0.0       6.3            997.7   \n",
      "\n",
      "   AVG_TEMP_C MAX_TEMP_C MIN_TEMP_C netto_minutes  is_elite  level  \n",
      "0        15.1       17.0       12.9    126.733333      True   High  \n",
      "1        15.1       17.0       12.9    126.950000      True   High  \n",
      "2        15.1       17.0       12.9    128.516667      True   High  \n",
      "3        15.1       17.0       12.9    129.933333      True   High  \n",
      "4        15.1       17.0       12.9    130.616667      True   High  \n",
      "5        15.1       17.0       12.9    131.883333      True   High  \n",
      "6        15.1       17.0       12.9    132.200000      True   High  \n",
      "7        15.1       17.0       12.9    132.383333      True   High  \n",
      "8        15.1       17.0       12.9    133.150000      True   High  \n",
      "9        15.1       17.0       12.9    133.416667      True   High  \n",
      "10       15.1       17.0       12.9    133.966667     False   High  \n",
      "11       15.1       17.0       12.9    134.583333     False   High  \n",
      "12       15.1       17.0       12.9    134.916667     False   High  \n",
      "13       15.1       17.0       12.9    135.550000     False   High  \n",
      "14       15.1       17.0       12.9    135.766667     False   High  \n",
      "15       15.1       17.0       12.9    136.650000     False   High  \n",
      "16       15.1       17.0       12.9    136.666667     False   High  \n",
      "17       15.1       17.0       12.9    136.750000     False   High  \n",
      "18       15.1       17.0       12.9    136.983333     False   High  \n",
      "19       15.1       17.0       12.9    137.100000     False   High  \n",
      "\n",
      "[20 rows x 28 columns]\n"
     ]
    }
   ],
   "source": [
    "def assign_level(series):\n",
    "    q1 = series.quantile(0.25)\n",
    "    q3 = series.quantile(0.75)\n",
    "    conditions = [\n",
    "        (series <= q1), # 0-25%, high\n",
    "        (series > q1) & (series <= q3), # 25-75%, medium\n",
    "        (series > q3) # 75-100%, low\n",
    "    ]\n",
    "    choices = ['High', 'Medium', 'Low']\n",
    "    return np.select(conditions, choices, default='Medium')\n",
    "\n",
    "# assign level\n",
    "merged_df['level'] = merged_df.groupby('Year')['netto_minutes'].transform(assign_level)\n",
    "\n",
    "print(merged_df.head(20))"
   ]
  },
  {
   "cell_type": "code",
   "execution_count": null,
   "metadata": {},
   "outputs": [],
   "source": []
  }
 ],
 "metadata": {
  "kernelspec": {
   "display_name": "Python (data visualization)",
   "language": "python",
   "name": "data_visualization"
  },
  "language_info": {
   "codemirror_mode": {
    "name": "ipython",
    "version": 3
   },
   "file_extension": ".py",
   "mimetype": "text/x-python",
   "name": "python",
   "nbconvert_exporter": "python",
   "pygments_lexer": "ipython3",
   "version": "3.8.10"
  }
 },
 "nbformat": 4,
 "nbformat_minor": 2
}
